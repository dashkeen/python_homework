{
 "cells": [
  {
   "cell_type": "code",
   "execution_count": 21,
   "metadata": {},
   "outputs": [],
   "source": [
    "import numpy as np\n",
    "import matplotlib.pyplot as plt\n",
    "import math\n",
    "from scipy import linalg"
   ]
  },
  {
   "cell_type": "markdown",
   "metadata": {},
   "source": [
    "Задание 1"
   ]
  },
  {
   "cell_type": "code",
   "execution_count": 18,
   "metadata": {},
   "outputs": [
    {
     "data": {
      "text/plain": [
       "[5, 7]"
      ]
     },
     "execution_count": 18,
     "metadata": {},
     "output_type": "execute_result"
    }
   ],
   "source": [
    "x = np.array([1,1])\n",
    "y = np.array([2,0])\n",
    "z = np.array([0,2])\n",
    "\n",
    "s = x + 2*y + 3*z\n",
    "list(s)"
   ]
  },
  {
   "cell_type": "code",
   "execution_count": 30,
   "metadata": {},
   "outputs": [
    {
     "data": {
      "image/png": "[encoded data removed]",
      "text/plain": [
       "<Figure size 432x288 with 1 Axes>"
      ]
     },
     "metadata": {
      "needs_background": "light"
     },
     "output_type": "display_data"
    }
   ],
   "source": [
    "x = list(s)[0]\n",
    "y = list(s)[1]\n",
    "\n",
    "a = [0.0,0.0]\n",
    "b = [x, y]\n",
    "head_length = 0.7\n",
    "\n",
    "dx = b[0] - a[0]\n",
    "dy = b[1] - a[1]\n",
    "\n",
    "vec_ab = [dx,dy]\n",
    "vec_ab_magnitude = math.sqrt(dx**2+dy**2)\n",
    "\n",
    "dx = dx / vec_ab_magnitude\n",
    "dy = dy / vec_ab_magnitude\n",
    "\n",
    "vec_ab_magnitude = vec_ab_magnitude - head_length\n",
    "\n",
    "ax = plt.axes()\n",
    "\n",
    "ax.arrow(a[0], a[1], vec_ab_magnitude*dx, vec_ab_magnitude*dy, head_width=0.5, head_length=0.7, fc='black', ec='black')\n",
    "\n",
    "plt.scatter(a[0],a[1],color='black')\n",
    "plt.scatter(b[0],b[1],color='black')\n",
    "\n",
    "plt.grid()\n",
    "\n",
    "plt.xlim(0,10)\n",
    "plt.ylim(0,10)\n",
    "\n",
    "plt.show()"
   ]
  },
  {
   "cell_type": "code",
   "execution_count": 52,
   "metadata": {},
   "outputs": [
    {
     "name": "stdout",
     "output_type": "stream",
     "text": [
      "0.7853981633974484\n",
      "0.7853981633974484\n"
     ]
    }
   ],
   "source": [
    "print(np.arccos(x.dot(y) / (np.linalg.norm(x) *np.linalg.norm(y))))\n",
    "print(np.arccos(x.dot(z) / (np.linalg.norm(x) *np.linalg.norm(z))))"
   ]
  },
  {
   "cell_type": "markdown",
   "metadata": {},
   "source": [
    "Задание 2 (собственные значения и собственные вектора матриц)"
   ]
  },
  {
   "cell_type": "code",
   "execution_count": 26,
   "metadata": {},
   "outputs": [],
   "source": [
    "m1 = np.array([[2, 2],\n",
    "               [1, 3]])\n",
    "\n",
    "m2 = np.array([[4, 1, -1],\n",
    "               [1, 4, -1],\n",
    "               [-1, -1, 4]])"
   ]
  },
  {
   "cell_type": "code",
   "execution_count": 34,
   "metadata": {},
   "outputs": [
    {
     "name": "stdout",
     "output_type": "stream",
     "text": [
      "[1.38196601 3.61803399] [[-0.85065081  0.52573111]\n",
      " [ 0.52573111  0.85065081]]\n"
     ]
    }
   ],
   "source": [
    "wm1, vm1 = np.linalg.eigh(m1)\n",
    "print(wm1, vm1)"
   ]
  },
  {
   "cell_type": "code",
   "execution_count": 35,
   "metadata": {},
   "outputs": [
    {
     "name": "stdout",
     "output_type": "stream",
     "text": [
      "[3. 3. 6.] [[-0.81649658  0.         -0.57735027]\n",
      " [ 0.40824829  0.70710678 -0.57735027]\n",
      " [-0.40824829  0.70710678  0.57735027]]\n"
     ]
    }
   ],
   "source": [
    "wm2, vm2 = np.linalg.eigh(m2)\n",
    "print(wm2, vm2)"
   ]
  },
  {
   "cell_type": "code",
   "execution_count": 54,
   "metadata": {},
   "outputs": [
    {
     "data": {
      "text/plain": [
       "array([6.+0.00000000e+00j, 3.+5.12485706e-08j, 3.-5.12485706e-08j])"
      ]
     },
     "execution_count": 54,
     "metadata": {},
     "output_type": "execute_result"
    }
   ],
   "source": [
    "coeff = [-1, 12, -45, 54]\n",
    "np.roots(coeff)"
   ]
  },
  {
   "cell_type": "markdown",
   "metadata": {},
   "source": [
    "Задание 3 (SVD разложение матрицы)"
   ]
  },
  {
   "cell_type": "code",
   "execution_count": 36,
   "metadata": {},
   "outputs": [
    {
     "name": "stdout",
     "output_type": "stream",
     "text": [
      "(array([[-0.52573111, -0.85065081],\n",
      "       [-0.85065081,  0.52573111]]), array([4.23606798, 0.23606798]), array([[-0.52573111, -0.85065081],\n",
      "       [ 0.85065081, -0.52573111]]))\n"
     ]
    }
   ],
   "source": [
    "m3 = np.array([[1, 2],\n",
    "               [2, 3]])\n",
    "print(np.linalg.svd(m3))"
   ]
  },
  {
   "cell_type": "code",
   "execution_count": null,
   "metadata": {},
   "outputs": [],
   "source": []
  }
 ],
 "metadata": {
  "kernelspec": {
   "display_name": "Python 3",
   "language": "python",
   "name": "python3"
  },
  "language_info": {
   "codemirror_mode": {
    "name": "ipython",
    "version": 3
   },
   "file_extension": ".py",
   "mimetype": "text/x-python",
   "name": "python",
   "nbconvert_exporter": "python",
   "pygments_lexer": "ipython3",
   "version": "3.7.4"
  }
 },
 "nbformat": 4,
 "nbformat_minor": 2
}
