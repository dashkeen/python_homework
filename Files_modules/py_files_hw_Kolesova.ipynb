{
 "cells": [
  {
   "cell_type": "code",
   "execution_count": 4,
   "metadata": {},
   "outputs": [],
   "source": [
    "import json"
   ]
  },
  {
   "cell_type": "code",
   "execution_count": 5,
   "metadata": {},
   "outputs": [],
   "source": [
    "purchases = {}\n",
    "purchases_new = {}\n",
    "with open('purchase_log.txt') as f:\n",
    "    for line in f:\n",
    "        line = line.strip()\n",
    "        purchases = json.loads(line)\n",
    "        purchases_new[purchases['user_id']] = purchases['category']"
   ]
  },
  {
   "cell_type": "code",
   "execution_count": 6,
   "metadata": {},
   "outputs": [],
   "source": [
    "with open('visit_log.csv') as vis:\n",
    "    with open ('visit_purch', 'w') as vis_p:\n",
    "        with open('purchase_log.txt') as pur:\n",
    "            for line in vis:\n",
    "                visit = line.strip().split(',')\n",
    "                if visit[0] in purchases_new.keys():\n",
    "                    visit.append(purchases_new[visit[0]])\n",
    "                vis_p.write(','.join(visit) +'\\n')"
   ]
  },
  {
   "cell_type": "code",
   "execution_count": 7,
   "metadata": {},
   "outputs": [],
   "source": [
    "with open ('visit_purch') as vis_p:\n",
    "        with open('funnel.csv', 'w') as fun:\n",
    "            for line in vis_p:\n",
    "                vis = line.strip().split(',')\n",
    "                if len(vis) == 3:\n",
    "                    fun.write(','.join(vis) + '\\n')"
   ]
  },
  {
   "cell_type": "code",
   "execution_count": null,
   "metadata": {},
   "outputs": [],
   "source": []
  }
 ],
 "metadata": {
  "kernelspec": {
   "display_name": "Python 3",
   "language": "python",
   "name": "python3"
  },
  "language_info": {
   "codemirror_mode": {
    "name": "ipython",
    "version": 3
   },
   "file_extension": ".py",
   "mimetype": "text/x-python",
   "name": "python",
   "nbconvert_exporter": "python",
   "pygments_lexer": "ipython3",
   "version": "3.7.4"
  }
 },
 "nbformat": 4,
 "nbformat_minor": 2
}
