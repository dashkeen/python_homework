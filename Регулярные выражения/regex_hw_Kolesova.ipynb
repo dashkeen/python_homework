{
 "cells": [
  {
   "cell_type": "markdown",
   "metadata": {},
   "source": [
    "**Задание 1.** Напишите функцию, которая принимает на вход строку и проверяет является ли она валидным транспортным номером. Если да, то функция должна возвращать отдельно номер и регион."
   ]
  },
  {
   "cell_type": "code",
   "execution_count": 2,
   "metadata": {},
   "outputs": [],
   "source": [
    "import re"
   ]
  },
  {
   "cell_type": "code",
   "execution_count": 50,
   "metadata": {
    "scrolled": true
   },
   "outputs": [
    {
     "name": "stdout",
     "output_type": "stream",
     "text": [
      "К058М 01\n"
     ]
    }
   ],
   "source": [
    "number = 'К058МВ01'\n",
    "def valid_num(string):\n",
    "    regex_num = '([А-Я])([0-9]{3})([А-Я]{2})(\\d{2}|[1,7][0-9][0-9])$'\n",
    "    if re.match(regex_num, string):\n",
    "        print(string[:5], string[6:])\n",
    "    else:\n",
    "        print(\"invalid number\")\n",
    "valid_num(number)    "
   ]
  },
  {
   "cell_type": "code",
   "execution_count": null,
   "metadata": {},
   "outputs": [],
   "source": []
  },
  {
   "cell_type": "markdown",
   "metadata": {},
   "source": [
    "**Задание 2**. Напишите функцию, которая проверяет e-mail адрес на валидность по стандарту RFC822: http://www.w3.org/Protocols/rfc822/. Для этого постарайтесь написать (в крайнем случае найти) самый полный шаблон для проверки e-mail адресов через регулярное выражение. Разберитесь и напишите примеры, какие ваш шаблон может не охватить."
   ]
  },
  {
   "cell_type": "code",
   "execution_count": 146,
   "metadata": {},
   "outputs": [],
   "source": [
    "import re"
   ]
  },
  {
   "cell_type": "code",
   "execution_count": 147,
   "metadata": {},
   "outputs": [],
   "source": [
    "emails = ['b.dashkeen@gmail.com', 'ivan@mail.com.ua', '_petrova±_@mail.ru', '11@11@gmail.com', '----@gmail.com']"
   ]
  },
  {
   "cell_type": "code",
   "execution_count": 148,
   "metadata": {},
   "outputs": [
    {
     "name": "stdout",
     "output_type": "stream",
     "text": [
      "The email b.dashkeen@gmail.com is a valid email\n",
      "The email ivan@mail.com.ua is a valid email\n",
      "The email _petrova±_@mail.ru is invalid\n",
      "The email 11@11@gmail.com is invalid\n",
      "The email ----@gmail.com is a valid email\n"
     ]
    }
   ],
   "source": [
    "def valid_email(mailstring):\n",
    "    regex_mails = '^([a-z0-9_-]+\\.)*[a-z0-9_-]+@[a-z0-9_-]+(\\.[a-z0-9_-]+)*\\.[a-z]{2,6}$'\n",
    "    for email in mailstring:\n",
    "        if re.match(regex_mails, email):\n",
    "            print('The email {} is a valid email'.format(email))\n",
    "        else:\n",
    "            print('The email {} is invalid'.format(email))\n",
    "valid_email(emails)"
   ]
  },
  {
   "cell_type": "markdown",
   "metadata": {},
   "source": [
    "**Задание 3.** Напишите функцию, которая будет удалять все последовательные повторы слов из заданной строки при помощи регулярных выражений."
   ]
  },
  {
   "cell_type": "code",
   "execution_count": 144,
   "metadata": {},
   "outputs": [
    {
     "data": {
      "text/plain": [
       "'Анна Екатерина Елена Светлана Ирина'"
      ]
     },
     "execution_count": 144,
     "metadata": {},
     "output_type": "execute_result"
    }
   ],
   "source": [
    "word_string = 'Анна Анна Екатерина Елена Светлана Ирина Ирина'\n",
    "re.sub(r'\\b(\\w+)( \\1\\b)+', r'\\1', word_string)"
   ]
  },
  {
   "cell_type": "markdown",
   "metadata": {},
   "source": [
    "**Задание 4**. Напишите функцию, которая будет проверять номер сотового телефона на валидность, если он валиден, то переводить его в формат:   \n",
    "+7(xxx)-xxx-xx-xx  \n",
    "Постарайтесь предусмотреть как можно больше адекватных форматов изначального ввода номера.\n",
    "Примеры валидных форматов:\n",
    "- +7 955 555-55-55;\n",
    "- 9555555555;\n",
    "- 8(955)555-55-55;\n",
    "- +7 955 555 55 55;\n",
    "- 7(955) 555-55-55;\n",
    "- +7 955+555+55+55."
   ]
  },
  {
   "cell_type": "code",
   "execution_count": 222,
   "metadata": {},
   "outputs": [],
   "source": [
    "phone_number = '8-921-391-90-45'"
   ]
  },
  {
   "cell_type": "code",
   "execution_count": 224,
   "metadata": {},
   "outputs": [
    {
     "name": "stdout",
     "output_type": "stream",
     "text": [
      "This phone number is valid: +7(921)-391-90-45\n"
     ]
    }
   ],
   "source": [
    "def valid_phone_number(num):\n",
    "    raw_num = []\n",
    "    regex_phone_num = r'^((8|\\+7|7)[\\- ]?)?(\\(?\\d{3}\\)?[\\- ]?)?[\\d\\- |+]{7,10}$'\n",
    "    if re.match(regex_phone_num, num):\n",
    "        for element in phone_number:\n",
    "            if element not in ['-', ' ', '+', '(', ')']:\n",
    "                raw_num.append(element)\n",
    "        val_num = ''.join(raw_num)\n",
    "        print(f'This phone number is valid: +7({val_num[-10:-7]})-{val_num[-7:-4]}-{val_num[-4:-2]}-{val_num[-2:]}')\n",
    "    else:\n",
    "        print('This phone number is invalid')  \n",
    "valid_phone_number(phone_number)    "
   ]
  },
  {
   "cell_type": "code",
   "execution_count": null,
   "metadata": {},
   "outputs": [],
   "source": []
  }
 ],
 "metadata": {
  "kernelspec": {
   "display_name": "Python 3",
   "language": "python",
   "name": "python3"
  },
  "language_info": {
   "codemirror_mode": {
    "name": "ipython",
    "version": 3
   },
   "file_extension": ".py",
   "mimetype": "text/x-python",
   "name": "python",
   "nbconvert_exporter": "python",
   "pygments_lexer": "ipython3",
   "version": "3.7.4"
  }
 },
 "nbformat": 4,
 "nbformat_minor": 2
}
