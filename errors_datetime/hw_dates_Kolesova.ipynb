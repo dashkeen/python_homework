{
 "cells": [
  {
   "cell_type": "code",
   "execution_count": 2,
   "metadata": {},
   "outputs": [],
   "source": [
    "from datetime import datetime\n",
    "from datetime import timedelta"
   ]
  },
  {
   "cell_type": "code",
   "execution_count": 2,
   "metadata": {},
   "outputs": [
    {
     "name": "stdout",
     "output_type": "stream",
     "text": [
      "Enter start date (YYYY-MM-DD format): 2009-09-09\n",
      "Enter end date (YYYY-MM-DD format): 2009-09-12\n",
      "2009-09-09\n",
      "2009-09-10\n",
      "2009-09-11\n",
      "2009-09-12\n"
     ]
    }
   ],
   "source": [
    "start_date = input('Enter start date (YYYY-MM-DD format): ')\n",
    "end_date = input('Enter end date (YYYY-MM-DD format): ')\n",
    "def date_range(start_date, end_date):\n",
    "    start_date_dt = datetime.strptime(start_date, '%Y-%m-%d')\n",
    "    end_date_dt = datetime.strptime(end_date, '%Y-%m-%d')\n",
    "    while start_date_dt <= end_date_dt:\n",
    "        print(start_date_dt.strftime('%Y-%m-%d'))\n",
    "        start_date_dt += timedelta(days=1)\n",
    "date_range(start_date, end_date)"
   ]
  },
  {
   "cell_type": "code",
   "execution_count": 4,
   "metadata": {},
   "outputs": [
    {
     "name": "stdout",
     "output_type": "stream",
     "text": [
      "Enter start date (YYYY-MM-DD format): 2009-09-09\n",
      "Enter end date (YYYY-MM-DD format): 2000-09-07\n",
      "List of dates:  []\n"
     ]
    }
   ],
   "source": [
    "#не получается проверить корректность формата введённой даты. Как ни пробую, try-except не отрабатывает, выдаёт ValueError\n",
    "start_date = input('Enter start date (YYYY-MM-DD format): ')\n",
    "end_date = input('Enter end date (YYYY-MM-DD format): ')\n",
    "\n",
    "def date_range(start_date, end_date):\n",
    "    list = []\n",
    "    start_date_dt = datetime.strptime(start_date, '%Y-%m-%d')\n",
    "    end_date_dt = datetime.strptime(end_date, '%Y-%m-%d')\n",
    "    while start_date_dt <= end_date_dt:\n",
    "        try:\n",
    "            list.append(start_date_dt.strftime('%Y-%m-%d'))\n",
    "            start_date_dt += timedelta(days=1)\n",
    "        except:\n",
    "            list = []\n",
    "    print('List of dates: ', list)\n",
    "date_range(start_date, end_date)"
   ]
  },
  {
   "cell_type": "code",
   "execution_count": null,
   "metadata": {},
   "outputs": [],
   "source": []
  },
  {
   "cell_type": "code",
   "execution_count": null,
   "metadata": {},
   "outputs": [],
   "source": [
    "stream = ['2019-04-01', '2019-02-22', '2018-19-02']"
   ]
  },
  {
   "cell_type": "code",
   "execution_count": null,
   "metadata": {},
   "outputs": [],
   "source": [
    "def date_check(date_list):\n",
    "    for date in stream:\n",
    "        try:\n",
    "            date_dt = datetime.strptime(date, '%Y-%m-%d')\n",
    "            print(date, 'True')\n",
    "        except:\n",
    "            print(date, 'False')\n",
    "date_check(stream)"
   ]
  },
  {
   "cell_type": "markdown",
   "metadata": {},
   "source": []
  },
  {
   "cell_type": "code",
   "execution_count": 13,
   "metadata": {},
   "outputs": [],
   "source": [
    "DEFAULT_USER_COUNT = 3\n",
    "\n",
    "def delete_and_return_last_user(region, default_list = ['A100', 'A101', 'A102']):\n",
    "\n",
    "    element_to_delete = default_list[-1]\n",
    "    default_list.remove(element_to_delete)\n",
    "\n",
    "    return default_list[DEFAULT_USER_COUNT-2]\n",
    "\n",
    "# При повторном запуске в списке остаётся всего один элемент default_list[0], \n",
    "# соотв. default_list[1] отсутствует --> ошибка отсутствия искомого индекса"
   ]
  },
  {
   "cell_type": "code",
   "execution_count": null,
   "metadata": {},
   "outputs": [],
   "source": []
  }
 ],
 "metadata": {
  "kernelspec": {
   "display_name": "Python 3",
   "language": "python",
   "name": "python3"
  },
  "language_info": {
   "codemirror_mode": {
    "name": "ipython",
    "version": 3
   },
   "file_extension": ".py",
   "mimetype": "text/x-python",
   "name": "python",
   "nbconvert_exporter": "python",
   "pygments_lexer": "ipython3",
   "version": "3.7.4"
  }
 },
 "nbformat": 4,
 "nbformat_minor": 2
}
