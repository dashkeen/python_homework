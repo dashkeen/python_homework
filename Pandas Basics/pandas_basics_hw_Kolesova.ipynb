{
 "cells": [
  {
   "cell_type": "code",
   "execution_count": 1,
   "metadata": {},
   "outputs": [],
   "source": [
    "import pandas as pd"
   ]
  },
  {
   "cell_type": "code",
   "execution_count": 13,
   "metadata": {},
   "outputs": [
    {
     "data": {
      "text/html": [
       "<div>\n",
       "<style scoped>\n",
       "    .dataframe tbody tr th:only-of-type {\n",
       "        vertical-align: middle;\n",
       "    }\n",
       "\n",
       "    .dataframe tbody tr th {\n",
       "        vertical-align: top;\n",
       "    }\n",
       "\n",
       "    .dataframe thead th {\n",
       "        text-align: right;\n",
       "    }\n",
       "</style>\n",
       "<table border=\"1\" class=\"dataframe\">\n",
       "  <thead>\n",
       "    <tr style=\"text-align: right;\">\n",
       "      <th></th>\n",
       "      <th>movieId</th>\n",
       "      <th>title</th>\n",
       "      <th>genres</th>\n",
       "    </tr>\n",
       "  </thead>\n",
       "  <tbody>\n",
       "    <tr>\n",
       "      <td>314</td>\n",
       "      <td>318</td>\n",
       "      <td>Shawshank Redemption, The (1994)</td>\n",
       "      <td>Crime|Drama</td>\n",
       "    </tr>\n",
       "  </tbody>\n",
       "</table>\n",
       "</div>"
      ],
      "text/plain": [
       "     movieId                             title       genres\n",
       "314      318  Shawshank Redemption, The (1994)  Crime|Drama"
      ]
     },
     "execution_count": 13,
     "metadata": {},
     "output_type": "execute_result"
    }
   ],
   "source": [
    "data_mov = pd.read_csv('movies.csv')\n",
    "data_rate = pd.read_csv('ratings.csv')\n",
    "high_rated = data_rate[data_rate.rating == 5.0]\n",
    "high_rated.sort_values(by=['movieId']).head()\n",
    "best_film = high_rated.movieId.value_counts().head(1).index[0]\n",
    "best_film_name = data_mov[data_mov.movieId == best_film]\n",
    "best_film_name"
   ]
  },
  {
   "cell_type": "code",
   "execution_count": null,
   "metadata": {},
   "outputs": [],
   "source": []
  },
  {
   "cell_type": "code",
   "execution_count": 14,
   "metadata": {},
   "outputs": [
    {
     "data": {
      "text/plain": [
       "164555.0"
      ]
     },
     "execution_count": 14,
     "metadata": {},
     "output_type": "execute_result"
    }
   ],
   "source": [
    "data = pd.read_csv('power.csv')\n",
    "data_baltic = data[(data.country == 'Estonia') | (data.country == 'Latvia') | (data.country == 'Lithuania')]\n",
    "baltic_cat = data_baltic[(data_baltic.category == 4) | (data_baltic.category == 12) | (data_baltic.category == 21)]\n",
    "baltic_final = baltic_cat[(baltic_cat.year > 2005) & (baltic_cat.year < 2010) & (baltic_cat.quantity > 0)]\n",
    "baltic_final['quantity'].sum()"
   ]
  },
  {
   "cell_type": "code",
   "execution_count": null,
   "metadata": {},
   "outputs": [],
   "source": []
  },
  {
   "cell_type": "code",
   "execution_count": 31,
   "metadata": {},
   "outputs": [
    {
     "data": {
      "text/plain": [
       "[               US Dollar    1.00 USD  inv. 1.00 USD\n",
       " 0                   Euro    0.901413       1.109370\n",
       " 1          British Pound    0.800450       1.249298\n",
       " 2           Indian Rupee   75.727158       0.013205\n",
       " 3      Australian Dollar    1.555292       0.642966\n",
       " 4        Canadian Dollar    1.415237       0.706595\n",
       " 5       Singapore Dollar    1.415401       0.706513\n",
       " 6            Swiss Franc    0.961564       1.039972\n",
       " 7      Malaysian Ringgit    4.296487       0.232748\n",
       " 8           Japanese Yen  106.804530       0.009363\n",
       " 9  Chinese Yuan Renminbi    7.060623       0.141631]"
      ]
     },
     "execution_count": 31,
     "metadata": {},
     "output_type": "execute_result"
    }
   ],
   "source": [
    "page_url = 'https://www.x-rates.com/table/?from=USD&amount=1'\n",
    "fin_data = pd.read_html(page_url, attrs = {'class': 'ratesTable'})\n",
    "fin_data[:10]"
   ]
  },
  {
   "cell_type": "code",
   "execution_count": null,
   "metadata": {},
   "outputs": [],
   "source": []
  },
  {
   "cell_type": "code",
   "execution_count": null,
   "metadata": {},
   "outputs": [],
   "source": []
  }
 ],
 "metadata": {
  "kernelspec": {
   "display_name": "Python 3",
   "language": "python",
   "name": "python3"
  },
  "language_info": {
   "codemirror_mode": {
    "name": "ipython",
    "version": 3
   },
   "file_extension": ".py",
   "mimetype": "text/x-python",
   "name": "python",
   "nbconvert_exporter": "python",
   "pygments_lexer": "ipython3",
   "version": "3.7.4"
  }
 },
 "nbformat": 4,
 "nbformat_minor": 2
}
