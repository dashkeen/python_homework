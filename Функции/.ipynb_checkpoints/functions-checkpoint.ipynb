{
 "cells": [
  {
   "cell_type": "markdown",
   "metadata": {},
   "source": [
    "Вы работаете секретарем и вам постоянно приходят различные документы. Вы должны быть очень внимательны, чтобы не потерять ни один документ. Каталог документов хранится в следующем виде:"
   ]
  },
  {
   "cell_type": "code",
   "execution_count": 1,
   "metadata": {},
   "outputs": [],
   "source": [
    "documents = [\n",
    "    {'type': 'passport', 'number': '2207 876234', 'name': 'Василий Гупкин'},\n",
    "    {'type': 'invoice', 'number': '11-2', 'name': 'Геннадий Покемонов'},\n",
    "    {'type': 'insurance', 'number': '10006', 'name': 'Аристарх Павлов'}\n",
    "]"
   ]
  },
  {
   "cell_type": "markdown",
   "metadata": {},
   "source": [
    "Перечень полок, на которых находятся документы хранится в следующем виде:"
   ]
  },
  {
   "cell_type": "code",
   "execution_count": 2,
   "metadata": {},
   "outputs": [],
   "source": [
    "directories = {\n",
    "    '1': ['2207 876234', '11-2'],\n",
    "    '2': ['10006'],\n",
    "    '3': []\n",
    "}"
   ]
  },
  {
   "cell_type": "markdown",
   "metadata": {},
   "source": [
    "Необходимо реализовать пользовательские команды (внимание! это не название функций, которые должны быть выразительными, а команды, которые вводит пользователь, чтобы получить необходимый результат):\n",
    "  \n",
    "- p – people – команда, которая спросит номер документа и выведет имя человека, которому он принадлежит;  \n",
    "- s – shelf – команда, которая спросит номер документа и выведет номер полки, на которой он находится  \n",
    "Правильно обработайте ситуацию, когда пользователь будет вводить несуществующий документ.\n",
    "- l – list – команда, которая выведет список всех документов в формате   \n",
    "**passport \"2207 876234\" \"Василий Гупкин\"**  \n",
    "- as – add shelf – команда, которая спросит номер новой полки и добавит ее в перечень\n",
    "- d – delete – команда, которая спросит номер документа и удалит его из каталога и из перечня полок. Предусмотрите сценарий, когда пользователь вводит несуществующий документ;  \n",
    "- m – move – команда, которая спросит номер документа и целевую полку и переместит его с текущей полки на целевую. Корректно обработайте кейсы, когда пользователь пытается переместить несуществующий документ или переместить документ на несуществующую полку;  \n",
    "- a – add – команда, которая добавит новый документ в каталог и в перечень полок, спросив его номер, тип, имя владельца и номер полки, на котором он будет храниться."
   ]
  },
  {
   "cell_type": "code",
   "execution_count": 3,
   "metadata": {},
   "outputs": [
    {
     "name": "stdout",
     "output_type": "stream",
     "text": [
      "Введите номер документа 10006\n",
      "Аристарх Павлов\n"
     ]
    }
   ],
   "source": [
    "def get_person(docs):\n",
    "    docnum = input(\"Введите номер документа \")\n",
    "    for doc in docs:\n",
    "        if docnum == doc['number']:\n",
    "            print(doc['name'])\n",
    "get_person(documents)"
   ]
  },
  {
   "cell_type": "code",
   "execution_count": 4,
   "metadata": {},
   "outputs": [
    {
     "name": "stdout",
     "output_type": "stream",
     "text": [
      "Введите номер документа 11-2\n",
      "1\n"
     ]
    }
   ],
   "source": [
    "def get_shelf(dirs):\n",
    "        numdoc = input(\"Введите номер документа \")\n",
    "        directory = 0\n",
    "        for direct, nums in dirs.items():\n",
    "            if numdoc in nums:\n",
    "                directory = direct\n",
    "                break\n",
    "            else:\n",
    "                directory = 'No such doc. Try again'\n",
    "        print(directory)\n",
    "get_shelf(directories)"
   ]
  },
  {
   "cell_type": "code",
   "execution_count": 5,
   "metadata": {},
   "outputs": [
    {
     "name": "stdout",
     "output_type": "stream",
     "text": [
      "passport \"2207 876234\" \"Василий Гупкин\"\n",
      "invoice \"11-2\" \"Геннадий Покемонов\"\n",
      "insurance \"10006\" \"Аристарх Павлов\"\n"
     ]
    }
   ],
   "source": [
    "def get_docs(docs):\n",
    "    for doc in docs:\n",
    "        doc_list = list(doc.values())\n",
    "        print(f'{doc_list[0]} \"{doc_list[1]}\" \"{doc_list[2]}\"')\n",
    "get_docs(documents)"
   ]
  },
  {
   "cell_type": "code",
   "execution_count": 6,
   "metadata": {},
   "outputs": [
    {
     "name": "stdout",
     "output_type": "stream",
     "text": [
      "Задайте номер новой полки 4\n",
      "{'1': ['2207 876234', '11-2'], '2': ['10006'], '3': [], '4': []}\n"
     ]
    }
   ],
   "source": [
    "def add_shelf(dirs):\n",
    "    new_shelf = input(\"Задайте номер новой полки \")\n",
    "    dirs.setdefault(new_shelf, [])\n",
    "    print(dirs)\n",
    "add_shelf(directories)"
   ]
  },
  {
   "cell_type": "code",
   "execution_count": 7,
   "metadata": {},
   "outputs": [
    {
     "name": "stdout",
     "output_type": "stream",
     "text": [
      "Введите номер документа 33\n",
      "No such doc. Try again, please.  deleted/no such document\n",
      "Docs list:  [{'type': 'passport', 'number': '2207 876234', 'name': 'Василий Гупкин'}, {'type': 'invoice', 'number': '11-2', 'name': 'Геннадий Покемонов'}, {'type': 'insurance', 'number': '10006', 'name': 'Аристарх Павлов'}]\n"
     ]
    }
   ],
   "source": [
    "def delete_doc(docs, dirs):\n",
    "    docnumb = input(\"Введите номер документа \")\n",
    "    for doc in docs:\n",
    "        if docnumb in list(doc.values()):\n",
    "            docs.remove(doc)\n",
    "            break\n",
    "        else:\n",
    "            doc = 'No such doc. Try again, please.'\n",
    "    for key, value in dirs.items():\n",
    "        if docnumb in value:\n",
    "            dirs[key].remove(docnumb)\n",
    "    print(doc, ' deleted/no such document')\n",
    "    print('Docs list: ', docs)\n",
    "delete_doc(documents, directories) "
   ]
  },
  {
   "cell_type": "code",
   "execution_count": 8,
   "metadata": {},
   "outputs": [
    {
     "name": "stdout",
     "output_type": "stream",
     "text": [
      "Введите номер документа 11-2\n",
      "На какую полку вы хотите переместить документ 3\n",
      "doc has been moved\n",
      "{'1': ['2207 876234'], '2': ['10006'], '3': ['11-2'], '4': []}\n"
     ]
    }
   ],
   "source": [
    "def move_doc(dirs):\n",
    "    docnum = input(\"Введите номер документа \")\n",
    "    fut_shelf = input(\"На какую полку вы хотите переместить документ \")\n",
    "    old_shelf = 0\n",
    "    mes = 0\n",
    "    if fut_shelf in list(dirs.keys()):\n",
    "        for key, value in dirs.items():\n",
    "            if docnum in value:\n",
    "                old_shelf = key\n",
    "                dirs[old_shelf].remove(docnum)\n",
    "                dirs[fut_shelf].append(docnum)\n",
    "                mes = 'doc has been moved'\n",
    "                break\n",
    "            else:\n",
    "                mes = 'no such doc'\n",
    "        print(mes)\n",
    "    else:\n",
    "        print('No such dir')\n",
    "    print(dirs)\n",
    "move_doc(directories)"
   ]
  },
  {
   "cell_type": "code",
   "execution_count": 9,
   "metadata": {},
   "outputs": [
    {
     "name": "stdout",
     "output_type": "stream",
     "text": [
      "Введите номер документа 2209 003422\n",
      "Введите тип документа passport\n",
      "Введите имя владельца Daria Kolesova\n",
      "Введите номер полки для хранения документа 4\n",
      "[{'type': 'passport', 'number': '2207 876234', 'name': 'Василий Гупкин'}, {'type': 'invoice', 'number': '11-2', 'name': 'Геннадий Покемонов'}, {'type': 'insurance', 'number': '10006', 'name': 'Аристарх Павлов'}, {'type': 'passport', 'number': '2209 003422', 'name': 'Daria Kolesova'}]\n",
      "{'1': ['2207 876234'], '2': ['10006'], '3': ['11-2'], '4': ['2209 003422']}\n"
     ]
    }
   ],
   "source": [
    "def add_doc(docs, dirs):\n",
    "    doc_num = input(\"Введите номер документа \")\n",
    "    doc_type = input(\"Введите тип документа \")\n",
    "    doc_owner = input(\"Введите имя владельца \")\n",
    "    storage_num = input(\"Введите номер полки для хранения документа \")\n",
    "    if storage_num in list(dirs.keys()):\n",
    "        docs.append({'type': doc_type, 'number': doc_num, 'name': doc_owner})\n",
    "        dirs[storage_num].append(doc_num)\n",
    "    else:\n",
    "        print('no such shelf, try again')\n",
    "    print(docs)\n",
    "    print(dirs)\n",
    "add_doc(documents, directories)"
   ]
  },
  {
   "cell_type": "code",
   "execution_count": 10,
   "metadata": {},
   "outputs": [
    {
     "name": "stdout",
     "output_type": "stream",
     "text": [
      "Введите команду p\n",
      "Введите номер документа 11-2\n",
      "Геннадий Покемонов\n",
      "Введите команду s\n",
      "Введите номер документа 10006\n",
      "2\n",
      "Введите команду l\n",
      "passport \"2207 876234\" \"Василий Гупкин\"\n",
      "invoice \"11-2\" \"Геннадий Покемонов\"\n",
      "insurance \"10006\" \"Аристарх Павлов\"\n",
      "passport \"2209 003422\" \"Daria Kolesova\"\n",
      "Введите команду as\n",
      "Задайте номер новой полки 5\n",
      "{'1': ['2207 876234'], '2': ['10006'], '3': ['11-2'], '4': ['2209 003422'], '5': []}\n",
      "Введите команду d\n",
      "Введите номер документа 2209 003422\n",
      "{'type': 'passport', 'number': '2209 003422', 'name': 'Daria Kolesova'}  deleted/no such document\n",
      "Docs list:  [{'type': 'passport', 'number': '2207 876234', 'name': 'Василий Гупкин'}, {'type': 'invoice', 'number': '11-2', 'name': 'Геннадий Покемонов'}, {'type': 'insurance', 'number': '10006', 'name': 'Аристарх Павлов'}]\n",
      "Введите команду m\n",
      "Введите номер документа 11-2\n",
      "На какую полку вы хотите переместить документ 1\n",
      "doc has been moved\n",
      "{'1': ['2207 876234', '11-2'], '2': ['10006'], '3': [], '4': [], '5': []}\n",
      "Введите команду a\n",
      "Введите номер документа 22\n",
      "Введите тип документа passport\n",
      "Введите имя владельца daria\n",
      "Введите номер полки для хранения документа 4\n",
      "[{'type': 'passport', 'number': '2207 876234', 'name': 'Василий Гупкин'}, {'type': 'invoice', 'number': '11-2', 'name': 'Геннадий Покемонов'}, {'type': 'insurance', 'number': '10006', 'name': 'Аристарх Павлов'}, {'type': 'passport', 'number': '22', 'name': 'daria'}]\n",
      "{'1': ['2207 876234', '11-2'], '2': ['10006'], '3': [], '4': ['22'], '5': []}\n",
      "Введите команду l\n",
      "passport \"2207 876234\" \"Василий Гупкин\"\n",
      "invoice \"11-2\" \"Геннадий Покемонов\"\n",
      "insurance \"10006\" \"Аристарх Павлов\"\n",
      "passport \"22\" \"daria\"\n",
      "Введите команду q\n",
      "Пока!\n"
     ]
    }
   ],
   "source": [
    "def main():\n",
    "    while True:\n",
    "        user_input = input('Введите команду ')\n",
    "        if user_input == 'p':\n",
    "            get_person(documents)\n",
    "        elif user_input == 's':\n",
    "            get_shelf(directories)\n",
    "        elif user_input == 'l':\n",
    "            get_docs(documents)\n",
    "        elif user_input == 'as':\n",
    "            add_shelf(directories)\n",
    "        elif user_input == 'd':\n",
    "            delete_doc(documents, directories)\n",
    "        elif user_input == 'm':\n",
    "            move_doc(directories)\n",
    "        elif user_input == 'a':\n",
    "            add_doc(documents, directories)\n",
    "        elif user_input == 'q':\n",
    "            print('Пока!')\n",
    "            break\n",
    "main() "
   ]
  },
  {
   "cell_type": "code",
   "execution_count": null,
   "metadata": {},
   "outputs": [],
   "source": []
  }
 ],
 "metadata": {
  "kernelspec": {
   "display_name": "Python 3",
   "language": "python",
   "name": "python3"
  },
  "language_info": {
   "codemirror_mode": {
    "name": "ipython",
    "version": 3
   },
   "file_extension": ".py",
   "mimetype": "text/x-python",
   "name": "python",
   "nbconvert_exporter": "python",
   "pygments_lexer": "ipython3",
   "version": "3.7.4"
  }
 },
 "nbformat": 4,
 "nbformat_minor": 2
}
