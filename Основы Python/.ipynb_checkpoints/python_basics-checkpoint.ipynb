{
 "cells": [
  {
   "cell_type": "markdown",
   "metadata": {},
   "source": [
    "**Задание 1**. Даны 2 строки: *long_phrase* и *short_phrase*. \n",
    "Напишите код, который проверяет действительно ли длинная фраза *long_phrase* длиннее короткой *short_phrase*. И выводит *True* или *False* в зависимости от результата сравнения."
   ]
  },
  {
   "cell_type": "code",
   "execution_count": null,
   "metadata": {},
   "outputs": [],
   "source": [
    "long_phrase = 'Насколько проще было бы писать программы, если бы не заказчики'\n",
    "short_phrase = '640Кб должно хватить для любых задач. Билл Гейтс (по легенде)'"
   ]
  },
  {
   "cell_type": "code",
   "execution_count": null,
   "metadata": {},
   "outputs": [],
   "source": [
    "len (long_phrase) > len (short_phrase)"
   ]
  },
  {
   "cell_type": "markdown",
   "metadata": {},
   "source": [
    "**Задание 2**. Дано значение объема файла в байтах (*в мегабайте 2^20 байт*). Напишите перевод этого значения в мегабайты в формате: \"*Объем файла равен 213.68Mb*\"."
   ]
  },
  {
   "cell_type": "code",
   "execution_count": 1,
   "metadata": {},
   "outputs": [],
   "source": [
    "file_size_bytes = 26"
   ]
  },
  {
   "cell_type": "code",
   "execution_count": 2,
   "metadata": {},
   "outputs": [
    {
     "name": "stdout",
     "output_type": "stream",
     "text": [
      "Объём файла равен 2.47955322265625e-05 Mb\n"
     ]
    }
   ],
   "source": [
    "print ('Объём файла равен', file_size_bytes / 2**20, 'Mb')"
   ]
  },
  {
   "cell_type": "markdown",
   "metadata": {},
   "source": [
    "**Задание 3**. Разработать приложение для определения знака зодиака по дате рождения. Пример:\n",
    "\n",
    "Введите месяц: март\n",
    "\n",
    "Введите число: 6\n",
    "\n",
    "Вывод:\n",
    "Рыбы"
   ]
  },
  {
   "cell_type": "code",
   "execution_count": 14,
   "metadata": {},
   "outputs": [
    {
     "name": "stdout",
     "output_type": "stream",
     "text": [
      "Введите месяц: январ\n",
      "Введите число: 23\n",
      "Знак Зодиака: неопределённый (проверь правильность введённой информации)\n"
     ]
    }
   ],
   "source": [
    "month_input = input ('Введите месяц: ')\n",
    "date_input = int(input ('Введите число: '))\n",
    "if (month_input == 'март' and date_input >= 21) or (month_input == 'апрель' and date_input <= 19):\n",
    "    print ('Вывод: Овен')\n",
    "elif (month_input == 'апрель' and date_input >= 20) or (month_input == 'май' and date_input <= 20):\n",
    "    print ('Вывод: Телец')\n",
    "elif (month_input == 'май' and date_input >= 21) or (month_input == 'июнь' and date_input <= 20):\n",
    "    print ('Вывод: Близнецы')\n",
    "elif (month_input == 'июнь' and date_input >= 21) or (month_input == 'июль' and date_input <= 22):\n",
    "     print ('Вывод: Рак')\n",
    "elif (month_input == 'июль' and date_input >= 23) or (month_input == 'август' and date_input <= 22):\n",
    "     print ('Вывод: Лев')\n",
    "elif (month_input == 'август' and date_input >= 23) or (month_input == 'сентябрь' and date_input <= 22):\n",
    "     print ('Вывод: Дева')\n",
    "elif (month_input == 'сентябрь' and date_input >= 23) or (month_input == 'октябрь' and date_input <= 22):\n",
    "     print ('Вывод: Весы')\n",
    "elif (month_input == 'октябрь' and date_input >= 23) or (month_input == 'ноябрь' and date_input <= 21):\n",
    "     print ('Вывод: Скорпион')\n",
    "elif (month_input == 'ноябрь' and date_input >= 22) or (month_input == 'декабрь' and date_input <= 21):\n",
    "     print ('Вывод: Стрелец')\n",
    "elif (month_input == 'декабрь' and date_input >= 22) or (month_input == 'январь' and date_input <= 19):\n",
    "     print ('Вывод: Козерог')\n",
    "elif (month_input == 'январь' and date_input >= 20) or (month_input == 'февраль' and date_input <= 18):\n",
    "     print ('Вывод: Водолей')\n",
    "elif (month_input == 'февраль' and date_input >= 19) or (month_input == 'март' and date_input <= 20):\n",
    "     print ('Вывод: Рыбы')\n",
    "else:\n",
    "    print ('Знак Зодиака: неопределённый (проверь правильность введённой информации)')\n",
    "            \n",
    "    \n"
   ]
  },
  {
   "cell_type": "markdown",
   "metadata": {},
   "source": [
    "**Задание 4**. Нужно разработать приложение для финансового планирования.\n",
    "Приложение учитывает сколько уходит на ипотеку, \"на жизнь\" и сколько нужно отложить на пенсию.\n",
    "Пользователь вводит:\n",
    "- заработанную плату в месяц.\n",
    "- сколько процентов от ЗП уходит на ипотеку.\n",
    "- сколько процентов от ЗП уходит \"на жизнь\".\n",
    "- сколько раз приходит премия в год.\n",
    "\n",
    "Остальная часть заработанной платы откладывается на пенсию.\n",
    "\n",
    "Также пользователю приходит премия в размере зарплаты, от которой половина уходит на отпуск, а вторая половина откладывается.\n",
    "\n",
    "Программа должна учитывать сколько премий было в год.\n",
    "\n",
    "Нужно вывести сколько денег тратит пользователь на ипотеку и сколько он накопит за год.\n",
    "\n",
    "Пример:\n",
    "\n",
    "Введите заработанную плату в месяц: 100000\n",
    "\n",
    "Введите сколько процентов уходит на ипотеку: 30\n",
    "\n",
    "Введите сколько процентов уходит на жизнь: 50\n",
    "\n",
    "Введите количество премий за год: 2\n",
    "\n",
    "Вывод:\n",
    "На ипотеку было потрачено: 360000 рублей\n",
    "Было накоплено: 340000 рублей"
   ]
  },
  {
   "cell_type": "code",
   "execution_count": 17,
   "metadata": {},
   "outputs": [
    {
     "name": "stdout",
     "output_type": "stream",
     "text": [
      "Введите з/п в месяц: 100000\n",
      "Введите сколько процентов от з/п уходит на ипотеку: 30\n",
      "Введите сколько процентов от з/п уходит на жизнь: 50\n",
      "Введите количество премий за год: 2\n",
      "На ипотеку было потрачено:  360000.0  рублей\n",
      "Было накоплено:  340000.0 рублей\n"
     ]
    }
   ],
   "source": [
    "income_input = int(input('Введите з/п в месяц: '))\n",
    "mortgage_input = int(input('Введите сколько процентов от з/п уходит на ипотеку: '))\n",
    "on_life_input = int(input('Введите сколько процентов от з/п уходит на жизнь: '))\n",
    "bonus_input = int(input('Введите количество премий за год: '))\n",
    "print ('На ипотеку было потрачено: ', income_input * 12 * mortgage_input / 100, ' рублей')\n",
    "print ('Было накоплено: ', income_input * 12 * (100 - mortgage_input - on_life_input) / 100 + \n",
    "       bonus_input / 2 * income_input, 'рублей')"
   ]
  },
  {
   "cell_type": "code",
   "execution_count": null,
   "metadata": {},
   "outputs": [],
   "source": []
  }
 ],
 "metadata": {
  "kernelspec": {
   "display_name": "Python 3",
   "language": "python",
   "name": "python3"
  },
  "language_info": {
   "codemirror_mode": {
    "name": "ipython",
    "version": 3
   },
   "file_extension": ".py",
   "mimetype": "text/x-python",
   "name": "python",
   "nbconvert_exporter": "python",
   "pygments_lexer": "ipython3",
   "version": "3.7.4"
  }
 },
 "nbformat": 4,
 "nbformat_minor": 2
}
